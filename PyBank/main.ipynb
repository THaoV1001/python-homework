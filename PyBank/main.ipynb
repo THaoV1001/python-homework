{
 "cells": [
  {
   "cell_type": "code",
   "execution_count": 3,
   "id": "6c131f9c-4e65-43f8-8b52-8efd959240a4",
   "metadata": {},
   "outputs": [
    {
     "name": "stdout",
     "output_type": "stream",
     "text": [
      "My current directory is C:\\XXX Personal Docs\\About to be studied\\2. Week 2\\Assignment\\PyBank\n"
     ]
    }
   ],
   "source": [
    "#Setting up\n",
    "from pathlib import Path\n",
    "import csv\n",
    "filepath = Path('../PyBank/budget_data.csv')\n",
    "\n",
    "#Check current directory \n",
    "print(f\"My current directory is {Path.cwd()}\")"
   ]
  },
  {
   "cell_type": "code",
   "execution_count": 9,
   "id": "e327f0d6-9e3e-443d-9ecf-d995471574aa",
   "metadata": {},
   "outputs": [
    {
     "name": "stdout",
     "output_type": "stream",
     "text": [
      "Financial Analysis\n",
      "-----------------------------\n",
      "Total Months: 86\n",
      "Total: 38382578\n",
      "Average Change: -2315.12\n",
      "Greatest Increase in Profits: Feb-12 (1926159)\n",
      "Greatest Decrease in Profits: Sep-13 (-2196167)\n"
     ]
    }
   ],
   "source": [
    "#Open csv file as an object\n",
    "with open(filepath, 'r') as csvfile:\n",
    "    csvreader = csv.reader(csvfile, delimiter=',')\n",
    "    \n",
    "#Read the header row \n",
    "    header_row = next(csvreader)\n",
    "    \n",
    "#Initializing temporary locations and starter loops\n",
    "    monthly_changes = []\n",
    "    monthly_profit_dict = {}\n",
    "    total_profit = 0 \n",
    "    last_month_profit = 0 \n",
    "    month_count = 0\n",
    "    \n",
    "    for row in csvreader:\n",
    "        month = row[0]\n",
    "        monthly_profit = int(row[1])\n",
    "#Calculating total profit\n",
    "        total_profit += monthly_profit\n",
    "#Calculating the total number of months\n",
    "        month_count += 1\n",
    "        \n",
    "#Creating a separate dict to store month: monthly changes\n",
    "        monthly_profit_dict[month] = [monthly_profit - last_month_profit]\n",
    "        last_month_profit = monthly_profit\n",
    "        monthly_changes.append(monthly_profit_dict[month][0])\n",
    "        \n",
    "#Remove the first value within the monthly_changes list\n",
    "    del monthly_changes[0] \n",
    "\n",
    "#Calculating average monthly changes\n",
    "    average_monthly_changes = round(sum(monthly_changes) / len(monthly_changes), 2)\n",
    "\n",
    "#Calculating max and min monthly changes\n",
    "    max_monthly_change = max(monthly_changes)\n",
    "    min_monthly_change = min(monthly_changes)\n",
    "    \n",
    "#Identifying months that contain max and min monthly changes\n",
    "    for month in monthly_profit_dict:\n",
    "        if monthly_profit_dict[month][0] == max_monthly_change:\n",
    "            max_month = month\n",
    "        elif monthly_profit_dict[month][0] == min_monthly_change:\n",
    "            min_month = month\n",
    "            \n",
    "#Print Results to be shown in Terminal\n",
    "print(\"Financial Analysis\")\n",
    "print(\"-----------------------------\")\n",
    "print(f\"Total Months: {month_count}\")\n",
    "print(f\"Total: {total_profit}\")\n",
    "print(f\"Average Change: {average_monthly_changes}\")\n",
    "print(f\"Greatest Increase in Profits: {max_month} ({max_monthly_change})\")\n",
    "print(f\"Greatest Decrease in Profits: {min_month} ({min_monthly_change})\")"
   ]
  },
  {
   "cell_type": "code",
   "execution_count": 8,
   "id": "b20aa4c3-fed8-4c38-885f-d95ff3abba23",
   "metadata": {},
   "outputs": [],
   "source": [
    "#Print Results to be exported to text file\n",
    "output_path = 'output.txt'\n",
    "with open(output_path, 'w') as file: \n",
    "    file.write(\"Financial Analysis.\\n\")\n",
    "    file.write(\"-----------------------------.\\n\")\n",
    "    file.write(f\"Total Months: {month_count}.\\n\")\n",
    "    file.write(f\"Total: {total_profit}.\\n\")\n",
    "    file.write(f\"Average Change: {average_monthly_changes}.\\n\")\n",
    "    file.write(f\"Greatest Increase in Profits: {max_month} ({max_monthly_change}).\\n\")\n",
    "    file.write(f\"Greatest Decrease in Profits: {min_month} ({min_monthly_change}).\\n\")"
   ]
  },
  {
   "cell_type": "code",
   "execution_count": null,
   "id": "4803291b-bcc2-4a19-aaf2-1ce33bafaf7b",
   "metadata": {},
   "outputs": [],
   "source": []
  }
 ],
 "metadata": {
  "kernelspec": {
   "display_name": "Python 3",
   "language": "python",
   "name": "python3"
  },
  "language_info": {
   "codemirror_mode": {
    "name": "ipython",
    "version": 3
   },
   "file_extension": ".py",
   "mimetype": "text/x-python",
   "name": "python",
   "nbconvert_exporter": "python",
   "pygments_lexer": "ipython3",
   "version": "3.8.8"
  }
 },
 "nbformat": 4,
 "nbformat_minor": 5
}
